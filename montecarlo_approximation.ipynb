{
 "cells": [
  {
   "cell_type": "markdown",
   "metadata": {
    "collapsed": true,
    "pycharm": {
     "name": "#%% md\n"
    }
   },
   "source": [
    "### We approximate Pi value using Montecarlo method."
   ]
  },
  {
   "cell_type": "markdown",
   "metadata": {
    "pycharm": {
     "name": "#%% md\n"
    }
   },
   "source": [
    "Initializing libraries and objects"
   ]
  },
  {
   "cell_type": "code",
   "execution_count": 18,
   "metadata": {
    "pycharm": {
     "name": "#%%\n"
    }
   },
   "outputs": [],
   "source": [
    "from collections import namedtuple\n",
    "from math import sqrt\n",
    "from random import random\n",
    "Point = namedtuple('Point', 'x y')"
   ]
  },
  {
   "cell_type": "markdown",
   "metadata": {
    "pycharm": {
     "name": "#%% md\n"
    }
   },
   "source": [
    "Defining the euclidean distance."
   ]
  },
  {
   "cell_type": "code",
   "execution_count": 19,
   "metadata": {
    "pycharm": {
     "name": "#%%\n"
    }
   },
   "outputs": [
    {
     "data": {
      "text/plain": [
       "5.0"
      ]
     },
     "execution_count": 19,
     "metadata": {},
     "output_type": "execute_result"
    }
   ],
   "source": [
    "def distance(point: Point, other_point: Point):\n",
    "    return sqrt((point.x - other_point.x)**2 + (point.y - other_point.y)**2)\n",
    "\n",
    "distance(Point(0, 0), Point(3, 4))"
   ]
  },
  {
   "cell_type": "markdown",
   "metadata": {
    "pycharm": {
     "name": "#%% md\n"
    }
   },
   "source": [
    "Creating random points"
   ]
  },
  {
   "cell_type": "code",
   "execution_count": 20,
   "metadata": {
    "pycharm": {
     "name": "#%%\n"
    }
   },
   "outputs": [
    {
     "data": {
      "text/plain": [
       "[Point(x=0.1612926124022096, y=0.060923049944938024),\n",
       " Point(x=0.6270887477998938, y=0.44092407685036095),\n",
       " Point(x=0.7626921170940966, y=0.050805039626968806),\n",
       " Point(x=0.2813947208789642, y=0.4423323656719348),\n",
       " Point(x=0.45424479957922936, y=0.8615366921729465),\n",
       " Point(x=0.2870610688184644, y=0.20637975674444264),\n",
       " Point(x=0.715345600601381, y=0.316279124793049),\n",
       " Point(x=0.06997887187154217, y=0.45592397256213724),\n",
       " Point(x=0.051783287833011005, y=0.4292635246979777),\n",
       " Point(x=0.07879622453659263, y=0.5470782237556773)]"
      ]
     },
     "execution_count": 20,
     "metadata": {},
     "output_type": "execute_result"
    }
   ],
   "source": [
    "RANDOM_POINTS_NUMBER = 999999\n",
    "\n",
    "points_lists = []\n",
    "for _ in range(RANDOM_POINTS_NUMBER):\n",
    "    points_lists.append(Point(random(), random()))\n",
    "\n",
    "points_lists[:10]"
   ]
  },
  {
   "cell_type": "markdown",
   "metadata": {
    "pycharm": {
     "name": "#%% md\n"
    }
   },
   "source": [
    "To classify if a point is inside the circle, we calculate the distance of the point to the center of circle and if it is\n",
    "smaller to the radius then the point is inside the circle."
   ]
  },
  {
   "cell_type": "code",
   "execution_count": 21,
   "metadata": {
    "pycharm": {
     "name": "#%%\n"
    }
   },
   "outputs": [
    {
     "data": {
      "text/plain": [
       "785360"
      ]
     },
     "execution_count": 21,
     "metadata": {},
     "output_type": "execute_result"
    }
   ],
   "source": [
    "circle_points = []\n",
    "for point in points_lists:\n",
    "    if distance(point, Point(0.5, 0.5)) < 0.5:  # The point are in the circle\n",
    "        circle_points.append(point)\n",
    "\n",
    "len(circle_points)"
   ]
  },
  {
   "cell_type": "markdown",
   "metadata": {
    "pycharm": {
     "name": "#%% md\n"
    }
   },
   "source": [
    "The ratio of the points in the circle and all points is the same as the ratio of area of the circle and area of the square, i.e. $\\pi/4$."
   ]
  },
  {
   "cell_type": "code",
   "execution_count": 22,
   "metadata": {
    "pycharm": {
     "name": "#%%\n"
    }
   },
   "outputs": [
    {
     "name": "stdout",
     "output_type": "stream",
     "text": [
      "0.7853607853607854\n",
      "3.1414431414431414\n"
     ]
    }
   ],
   "source": [
    "print(len(circle_points)/RANDOM_POINTS_NUMBER)\n",
    "print(4 * len(circle_points)/RANDOM_POINTS_NUMBER)"
   ]
  },
  {
   "cell_type": "markdown",
   "metadata": {
    "pycharm": {
     "name": "#%% md\n"
    }
   },
   "source": [
    "### Voilà we approximated the value of $\\pi$"
   ]
  }
 ],
 "metadata": {
  "kernelspec": {
   "display_name": "Python 3",
   "language": "python",
   "name": "python3"
  },
  "language_info": {
   "codemirror_mode": {
    "name": "ipython",
    "version": 3
   },
   "file_extension": ".py",
   "mimetype": "text/x-python",
   "name": "python",
   "nbconvert_exporter": "python",
   "pygments_lexer": "ipython3",
   "version": "3.9.1"
  }
 },
 "nbformat": 4,
 "nbformat_minor": 1
}