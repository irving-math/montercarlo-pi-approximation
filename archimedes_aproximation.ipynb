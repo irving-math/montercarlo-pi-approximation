{
 "cells": [
  {
   "cell_type": "markdown",
   "source": [
    "### We approximate Pi by polygons approximations of Archimedes"
   ],
   "metadata": {
    "collapsed": false,
    "pycharm": {
     "name": "#%% md\n"
    }
   }
  },
  {
   "cell_type": "markdown",
   "source": [
    "Only need a `sqrt` function and `pi` for comparison."
   ],
   "metadata": {
    "collapsed": false,
    "pycharm": {
     "name": "#%% md\n"
    }
   }
  },
  {
   "cell_type": "code",
   "execution_count": 12,
   "metadata": {
    "collapsed": true
   },
   "outputs": [],
   "source": [
    "from math import sqrt\n",
    "from math import pi"
   ]
  },
  {
   "cell_type": "markdown",
   "source": [
    "Suppose you know the length $d_n$ of one of the sides of an $n$-sided polygon circumscribed in a circle of radius $r$.\n",
    "\n",
    "With this, it is possible to deduce $d_{2n}$ of the $2n$-sided polygon from the next equations.\n",
    "\n",
    "$$(\\frac{d_n}{2})^2 + x^2 = r^2$$\n",
    "\n",
    "$$x + y = r$$\n",
    "\n",
    "$$ (\\frac{d_n}{2})^2 + y^2 = d_{2n}^2$$\n",
    "\n",
    "Next we write a function to calculate $d_{2n}$."
   ],
   "metadata": {
    "collapsed": false,
    "pycharm": {
     "name": "#%% md\n"
    }
   }
  },
  {
   "cell_type": "code",
   "execution_count": 13,
   "outputs": [],
   "source": [
    "def calculate_d_2n(r, d_n):\n",
    "    x = sqrt(r**2 - d_n**2/4)\n",
    "    y = x - r\n",
    "    d_2n = sqrt(d_n**2/4 + y **2)\n",
    "    return d_2n"
   ],
   "metadata": {
    "collapsed": false,
    "pycharm": {
     "name": "#%%\n"
    }
   }
  },
  {
   "cell_type": "markdown",
   "source": [
    "Now, we know that in the circle $2\\pi r=\\textrm{diameter}$, but what happens if we don't know the diameter of the circle.\n",
    "Well we can approximate with the diameter of polygons circumscribed, every time a polygons with more sides."
   ],
   "metadata": {
    "collapsed": false,
    "pycharm": {
     "name": "#%% md\n"
    }
   }
  },
  {
   "cell_type": "code",
   "execution_count": 14,
   "outputs": [],
   "source": [
    "def pi_with_polygon(n, r, side_length):\n",
    "    diameter = n*side_length\n",
    "    return diameter/(2*r)"
   ],
   "metadata": {
    "collapsed": false,
    "pycharm": {
     "name": "#%%\n"
    }
   }
  },
  {
   "cell_type": "markdown",
   "source": [
    "For the las part, we calculate $\\pi$, based on the last $d_n$ that we know."
   ],
   "metadata": {
    "collapsed": false,
    "pycharm": {
     "name": "#%% md\n"
    }
   }
  },
  {
   "cell_type": "code",
   "execution_count": 15,
   "outputs": [],
   "source": [
    "def pi_from_the_last_dn(n, r, d_n):\n",
    "    d_2n = calculate_d_2n(r, d_n)\n",
    "    my_pi = pi_with_polygon(n, r, d_2n)\n",
    "    return my_pi, d_2n"
   ],
   "metadata": {
    "collapsed": false,
    "pycharm": {
     "name": "#%%\n"
    }
   }
  },
  {
   "cell_type": "markdown",
   "source": [
    "With all components, we can start to approximate $\\pi$, for que firsts 15 iterations."
   ],
   "metadata": {
    "collapsed": false,
    "pycharm": {
     "name": "#%% md\n"
    }
   }
  },
  {
   "cell_type": "code",
   "execution_count": 16,
   "outputs": [
    {
     "name": "stdout",
     "output_type": "stream",
     "text": [
      "n-sides: 8, pi: 3.0614674589207187, error: 0.08012519466907442:\n",
      "n-sides: 16, pi: 3.121445152258053, error: 0.02014750133174026:\n",
      "n-sides: 32, pi: 3.1365484905459398, error: 0.005044163043853356:\n",
      "n-sides: 64, pi: 3.1403311569547534, error: 0.001261496635039716:\n",
      "n-sides: 128, pi: 3.1412772509327733, error: 0.0003154026570197921:\n",
      "n-sides: 256, pi: 3.1415138011443013, error: 7.885244549177273e-05:\n",
      "n-sides: 512, pi: 3.141572940367092, error: 1.9713222701334132e-05:\n",
      "n-sides: 1024, pi: 3.14158772527716, error: 4.928312633101228e-06:\n",
      "n-sides: 2048, pi: 3.1415914215112, error: 1.2320785929276212e-06:\n",
      "n-sides: 4096, pi: 3.141592345570118, error: 3.080196750993025e-07:\n",
      "n-sides: 8192, pi: 3.141592576584873, error: 7.700492021811556e-08:\n",
      "n-sides: 16384, pi: 3.141592634338563, error: 1.9251229943506587e-08:\n",
      "n-sides: 32768, pi: 3.141592648776986, error: 4.812807041787437e-09:\n",
      "n-sides: 65536, pi: 3.1415926523865916, error: 1.2032015384022543e-09:\n",
      "n-sides: 131072, pi: 3.1415926532889933, error: 3.0079982948905126e-10:\n"
     ]
    }
   ],
   "source": [
    "radius = 1\n",
    "n_sides = 4\n",
    "side_length = sqrt(2)\n",
    "estimated_pi = 3\n",
    "for i in range(15):\n",
    "    n_sides *= 2\n",
    "    estimated_pi, side_length= pi_from_the_last_dn(n_sides, radius, side_length)\n",
    "    print('n-sides: {}, pi: {}, error: {}:'.format(n_sides, estimated_pi, pi - estimated_pi))"
   ],
   "metadata": {
    "collapsed": false,
    "pycharm": {
     "name": "#%%\n"
    }
   }
  },
  {
   "cell_type": "markdown",
   "source": [
    "We have a very good approximation of $\\pi$ with this simple program."
   ],
   "metadata": {
    "collapsed": false,
    "pycharm": {
     "name": "#%% md\n"
    }
   }
  }
 ],
 "metadata": {
  "kernelspec": {
   "display_name": "Python 3",
   "language": "python",
   "name": "python3"
  },
  "language_info": {
   "codemirror_mode": {
    "name": "ipython",
    "version": 2
   },
   "file_extension": ".py",
   "mimetype": "text/x-python",
   "name": "python",
   "nbconvert_exporter": "python",
   "pygments_lexer": "ipython2",
   "version": "2.7.6"
  }
 },
 "nbformat": 4,
 "nbformat_minor": 0
}